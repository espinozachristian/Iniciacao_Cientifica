{
 "cells": [
  {
   "cell_type": "code",
   "execution_count": 30,
   "metadata": {},
   "outputs": [],
   "source": [
    "from bs4 import BeautifulSoup\n",
    "import requests\n",
    "import pandas as pd\n",
    "from googlesearch import search \n",
    "import numpy as np\n",
    "import time\n"
   ]
  },
  {
   "cell_type": "code",
   "execution_count": 78,
   "metadata": {},
   "outputs": [],
   "source": [
    "links_with_text = []\n",
    "delays = [7, 4, 6, 2, 10, 19]\n",
    "delay = np.random.choice(delays)\n",
    "def get_link_page(url,estado):\n",
    "    #print(url)\n",
    "    '''\n",
    "        Irá receber URL gerada dinamicamente abaixo,junto com a lista de Estados\n",
    "    '''\n",
    "    #verificar o header para buscar um que seja compartivel e gerar novos headers para evitar google block\n",
    "    #TODO:Caso não seja possivel iniciar o scrappy pelo Selenium para evitar block e utilizar o BS após extração dos links para verificar sites\n",
    "    headers = requests.utils.default_headers()\n",
    "    headers.update({\n",
    "    'User-Agent': 'Mozilla/5.0 (X11; Ubuntu; Linux x86_64; rv:52.0) Gecko/20100101 Firefox/52.0',\n",
    "    })\n",
    "    \n",
    "    source_code = requests.get(url)\n",
    "    plain_text = source_code.text\n",
    "    soup = BeautifulSoup(plain_text,\"html.parser\")\n",
    "    soup.url\n",
    "    for a in soup.find_all('a'):\n",
    "            #print(a)\n",
    "            if a.text: \n",
    "                '''\n",
    "                    busco no texto retornado da pagina apenas os href(links) e corto no primeiro & retornando o link \"cru\"\n",
    "                '''\n",
    "                link = a.get('href')[7:].split('&')\n",
    "                '''\n",
    "                    começa o filtro buscando apenas sites que contem .gov e contem pelo menos http\n",
    "                '''\n",
    "                if '.gov' in link[0]:\n",
    "                    if 'http' in link[0]:\n",
    "                            print(link[0])\n",
    "                            '''\n",
    "                                TODO:\n",
    "                                verificar regex para pegar o trecho antes do .gov selecionando de onde o site é localizado\n",
    "                                já que podemos buscar por um estado X no google e retornar como Y exemplo,buscar por amazonas e vir um site de SP\n",
    "                            '''\n",
    "                            links_with_text.append([link[0],estado])\n",
    "                        "
   ]
  },
  {
   "cell_type": "code",
   "execution_count": 79,
   "metadata": {},
   "outputs": [],
   "source": [
    "lista_de_estados = ['Acre',\n",
    "                    'Alagoas',\n",
    "                    'Amapá ',\n",
    "                    'Amazonas',\n",
    "                    'Bahia',\n",
    "                    'Ceará', \n",
    "                    'Distrito Federal',\n",
    "                    'Espírito Santo', \n",
    "                    'Goiás', \n",
    "                    'Maranhão', \n",
    "                    'Mato Grosso', \n",
    "                    'Mato Grosso do Sul',\n",
    "                    'Minas Gerais',\n",
    "                    'Pará',  \n",
    "                    'Paraíba', \n",
    "                    'Paraná', \n",
    "                    'Pernambuco', \n",
    "                    'Piauí', \n",
    "                    'Rio de Janeiro', \n",
    "                    'Rio Grande do Norte' ,\n",
    "                    'Rio Grande do Sul', \n",
    "                    'Rondônia' ,\n",
    "                    'Roraima',  \n",
    "                    'Santa Catarina' ,\n",
    "                    'São Paulo', \n",
    "                    'Sergipe',\n",
    "                    'Tocantins' ]"
   ]
  },
  {
   "cell_type": "code",
   "execution_count": 80,
   "metadata": {},
   "outputs": [
    {
     "name": "stdout",
     "output_type": "stream",
     "text": [
      "pagina atual: 1.0\n"
     ]
    },
    {
     "ename": "KeyboardInterrupt",
     "evalue": "",
     "output_type": "error",
     "traceback": [
      "\u001b[1;31m---------------------------------------------------------------------------\u001b[0m",
      "\u001b[1;31mKeyboardInterrupt\u001b[0m                         Traceback (most recent call last)",
      "\u001b[1;32m<ipython-input-80-d45cefefad4d>\u001b[0m in \u001b[0;36m<module>\u001b[1;34m\u001b[0m\n\u001b[0;32m      5\u001b[0m     '''\n\u001b[0;32m      6\u001b[0m     \u001b[1;32mwhile\u001b[0m \u001b[0mcount\u001b[0m \u001b[1;33m!=\u001b[0m \u001b[1;36m400\u001b[0m\u001b[1;33m:\u001b[0m\u001b[1;33m\u001b[0m\u001b[0m\n\u001b[1;32m----> 7\u001b[1;33m         \u001b[0mtime\u001b[0m\u001b[1;33m.\u001b[0m\u001b[0msleep\u001b[0m\u001b[1;33m(\u001b[0m\u001b[0mdelay\u001b[0m\u001b[1;33m)\u001b[0m\u001b[1;33m\u001b[0m\u001b[0m\n\u001b[0m\u001b[0;32m      8\u001b[0m         \u001b[0murl\u001b[0m \u001b[1;33m=\u001b[0m \u001b[1;34m\"http://www.google.com/search?q=\"\u001b[0m\u001b[1;33m+\u001b[0m\u001b[1;34m'prefeitura municipal do '\u001b[0m\u001b[1;33m+\u001b[0m\u001b[0mi\u001b[0m\u001b[1;33m+\u001b[0m\u001b[1;34m'&start='\u001b[0m\u001b[1;33m+\u001b[0m\u001b[0mstr\u001b[0m\u001b[1;33m(\u001b[0m\u001b[0mcount\u001b[0m\u001b[1;33m)\u001b[0m\u001b[1;33m\u001b[0m\u001b[0m\n\u001b[0;32m      9\u001b[0m         \u001b[0mget_link_page\u001b[0m\u001b[1;33m(\u001b[0m\u001b[0murl\u001b[0m\u001b[1;33m,\u001b[0m\u001b[0mi\u001b[0m\u001b[1;33m)\u001b[0m\u001b[1;33m\u001b[0m\u001b[0m\n",
      "\u001b[1;31mKeyboardInterrupt\u001b[0m: "
     ]
    }
   ],
   "source": [
    "for i in lista_de_estados:\n",
    "    count = 0\n",
    "    '''\n",
    "        TODO: Verificar e achar uma forma do mesmo ir até a ultima pagina possivel de busca,para evitar assim loop desnecessario e até mesmo abusar de requests em excesso.\n",
    "    '''\n",
    "    while count != 400:\n",
    "        time.sleep(delay)\n",
    "        url = \"http://www.google.com/search?q=\"+'prefeitura municipal do '+i+'&start='+str(count)\n",
    "        get_link_page(url,i)\n",
    "        count+=10\n",
    "        print('pagina atual:',count/10)\n",
    "    '''\n",
    "        Tentativa de Sleep por 1h:01min para evitar bloqueio do google pela quantidade de requests\n",
    "    '''\n",
    "    time.sleep(3660)"
   ]
  },
  {
   "cell_type": "code",
   "execution_count": 56,
   "metadata": {},
   "outputs": [
    {
     "data": {
      "text/plain": [
       "226"
      ]
     },
     "execution_count": 56,
     "metadata": {},
     "output_type": "execute_result"
    }
   ],
   "source": [
    "len(links_with_text)"
   ]
  },
  {
   "cell_type": "code",
   "execution_count": 57,
   "metadata": {},
   "outputs": [],
   "source": [
    "links = pd.DataFrame(links_with_text) "
   ]
  },
  {
   "cell_type": "code",
   "execution_count": 58,
   "metadata": {},
   "outputs": [],
   "source": [
    "links.rename({0:'Sites',1:'Estado'},inplace=True,axis=1)"
   ]
  },
  {
   "cell_type": "code",
   "execution_count": 59,
   "metadata": {},
   "outputs": [
    {
     "data": {
      "text/html": [
       "<div>\n",
       "<style scoped>\n",
       "    .dataframe tbody tr th:only-of-type {\n",
       "        vertical-align: middle;\n",
       "    }\n",
       "\n",
       "    .dataframe tbody tr th {\n",
       "        vertical-align: top;\n",
       "    }\n",
       "\n",
       "    .dataframe thead th {\n",
       "        text-align: right;\n",
       "    }\n",
       "</style>\n",
       "<table border=\"1\" class=\"dataframe\">\n",
       "  <thead>\n",
       "    <tr style=\"text-align: right;\">\n",
       "      <th></th>\n",
       "      <th>Sites</th>\n",
       "      <th>Estado</th>\n",
       "    </tr>\n",
       "  </thead>\n",
       "  <tbody>\n",
       "    <tr>\n",
       "      <th>0</th>\n",
       "      <td>http://www.riobranco.ac.gov.br/</td>\n",
       "      <td>Acre</td>\n",
       "    </tr>\n",
       "    <tr>\n",
       "      <th>1</th>\n",
       "      <td>http://portalcidadao.riobranco.ac.gov.br/</td>\n",
       "      <td>Acre</td>\n",
       "    </tr>\n",
       "    <tr>\n",
       "      <th>2</th>\n",
       "      <td>http://www.riobranco.ac.gov.br/index.php/notic...</td>\n",
       "      <td>Acre</td>\n",
       "    </tr>\n",
       "    <tr>\n",
       "      <th>3</th>\n",
       "      <td>http://www.riobranco.ac.gov.br/index.php/guia-...</td>\n",
       "      <td>Acre</td>\n",
       "    </tr>\n",
       "    <tr>\n",
       "      <th>4</th>\n",
       "      <td>http://www.riobranco.ac.gov.br/index.php/publi...</td>\n",
       "      <td>Acre</td>\n",
       "    </tr>\n",
       "  </tbody>\n",
       "</table>\n",
       "</div>"
      ],
      "text/plain": [
       "                                               Sites Estado\n",
       "0                    http://www.riobranco.ac.gov.br/   Acre\n",
       "1          http://portalcidadao.riobranco.ac.gov.br/   Acre\n",
       "2  http://www.riobranco.ac.gov.br/index.php/notic...   Acre\n",
       "3  http://www.riobranco.ac.gov.br/index.php/guia-...   Acre\n",
       "4  http://www.riobranco.ac.gov.br/index.php/publi...   Acre"
      ]
     },
     "execution_count": 59,
     "metadata": {},
     "output_type": "execute_result"
    }
   ],
   "source": [
    "links.head(5)"
   ]
  },
  {
   "cell_type": "code",
   "execution_count": 60,
   "metadata": {},
   "outputs": [],
   "source": [
    "links.drop_duplicates(subset =\"Sites\", \n",
    "                     keep = False, inplace = True) "
   ]
  },
  {
   "cell_type": "code",
   "execution_count": 62,
   "metadata": {},
   "outputs": [],
   "source": [
    "links.to_excel('Sites.xlsx')"
   ]
  },
  {
   "cell_type": "code",
   "execution_count": null,
   "metadata": {},
   "outputs": [],
   "source": []
  }
 ],
 "metadata": {
  "kernelspec": {
   "display_name": "Python 3",
   "language": "python",
   "name": "python3"
  },
  "language_info": {
   "codemirror_mode": {
    "name": "ipython",
    "version": 3
   },
   "file_extension": ".py",
   "mimetype": "text/x-python",
   "name": "python",
   "nbconvert_exporter": "python",
   "pygments_lexer": "ipython3",
   "version": "3.6.3"
  }
 },
 "nbformat": 4,
 "nbformat_minor": 4
}
